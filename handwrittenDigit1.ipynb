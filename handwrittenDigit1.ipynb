{
  "nbformat": 4,
  "nbformat_minor": 0,
  "metadata": {
    "colab": {
      "name": "handwrittenDigit.ipynb",
      "version": "0.3.2",
      "provenance": [],
      "collapsed_sections": [],
      "include_colab_link": true
    },
    "kernelspec": {
      "name": "python3",
      "display_name": "Python 3"
    },
    "accelerator": "GPU"
  },
  "cells": [
    {
      "cell_type": "markdown",
      "metadata": {
        "id": "view-in-github",
        "colab_type": "text"
      },
      "source": [
        "<a href=\"https://colab.research.google.com/github/Arshad221b/Handwritten-Digit-Recognition-/blob/master/handwrittenDigit.ipynb\" target=\"_parent\"><img src=\"https://colab.research.google.com/assets/colab-badge.svg\" alt=\"Open In Colab\"/></a>"
      ]
    },
    {
      "metadata": {
        "id": "VdNgPyvDWEUS",
        "colab_type": "code",
        "outputId": "195b3d6d-dbba-4828-8166-b2242bf9603a",
        "colab": {
          "base_uri": "https://localhost:8080/",
          "height": 94
        }
      },
      "cell_type": "code",
      "source": [
        "import keras\n",
        "import numpy as np\n",
        "import pandas as pd\n",
        "import cv2\n",
        "from matplotlib import pyplot as plt\n",
        "from keras.models import Sequential \n",
        "from keras.layers import Conv2D,MaxPooling2D, Dense,Flatten, Dropout\n",
        "from keras.datasets import mnist \n",
        "import matplotlib.pyplot as plt\n",
        "from keras.utils import np_utils\n",
        "from keras.optimizers import SGD"
      ],
      "execution_count": 0,
      "outputs": [
        {
          "output_type": "stream",
          "text": [
            "Using TensorFlow backend.\n"
          ],
          "name": "stderr"
        }
      ]
    },
    {
      "metadata": {
        "id": "GlR1JOKvWHsH",
        "colab_type": "code",
        "outputId": "d2afa153-a1b4-4658-a67d-aa17af29113c",
        "colab": {
          "base_uri": "https://localhost:8080/",
          "height": 273
        }
      },
      "cell_type": "code",
      "source": [
        "!pip install PyDrive"
      ],
      "execution_count": 0,
      "outputs": [
        {
          "output_type": "stream",
          "text": [
            "Requirement already satisfied: PyDrive in /usr/local/lib/python3.6/dist-packages (1.3.1)\n",
            "Requirement already satisfied: PyYAML>=3.0 in /usr/local/lib/python3.6/dist-packages (from PyDrive) (3.13)\n",
            "Requirement already satisfied: oauth2client>=4.0.0 in /usr/local/lib/python3.6/dist-packages (from PyDrive) (4.1.3)\n",
            "Requirement already satisfied: google-api-python-client>=1.2 in /usr/local/lib/python3.6/dist-packages (from PyDrive) (1.6.7)\n",
            "Requirement already satisfied: six>=1.6.1 in /usr/local/lib/python3.6/dist-packages (from oauth2client>=4.0.0->PyDrive) (1.11.0)\n",
            "Requirement already satisfied: pyasn1>=0.1.7 in /usr/local/lib/python3.6/dist-packages (from oauth2client>=4.0.0->PyDrive) (0.4.5)\n",
            "Requirement already satisfied: httplib2>=0.9.1 in /usr/local/lib/python3.6/dist-packages (from oauth2client>=4.0.0->PyDrive) (0.11.3)\n",
            "Requirement already satisfied: rsa>=3.1.4 in /usr/local/lib/python3.6/dist-packages (from oauth2client>=4.0.0->PyDrive) (4.0)\n",
            "Requirement already satisfied: pyasn1-modules>=0.0.5 in /usr/local/lib/python3.6/dist-packages (from oauth2client>=4.0.0->PyDrive) (0.2.4)\n",
            "Requirement already satisfied: uritemplate<4dev,>=3.0.0 in /usr/local/lib/python3.6/dist-packages (from google-api-python-client>=1.2->PyDrive) (3.0.0)\n"
          ],
          "name": "stdout"
        }
      ]
    },
    {
      "metadata": {
        "id": "HNnnwPjXWRuf",
        "colab_type": "code",
        "colab": {}
      },
      "cell_type": "code",
      "source": [
        "import os\n",
        "from pydrive.auth import GoogleAuth\n",
        "from pydrive.drive import GoogleDrive\n",
        "from google.colab import auth\n",
        "from oauth2client.client import GoogleCredentials"
      ],
      "execution_count": 0,
      "outputs": []
    },
    {
      "metadata": {
        "id": "9LqcRmtLWbtW",
        "colab_type": "code",
        "colab": {}
      },
      "cell_type": "code",
      "source": [
        "auth.authenticate_user()\n",
        "gauth = GoogleAuth()\n",
        "gauth.credentials = GoogleCredentials.get_application_default()\n",
        "drive = GoogleDrive(gauth)"
      ],
      "execution_count": 0,
      "outputs": []
    },
    {
      "metadata": {
        "id": "cbSWnRL-Weng",
        "colab_type": "code",
        "colab": {}
      },
      "cell_type": "code",
      "source": [
        "download = drive.CreateFile({'id': '1xkVelvIdUVsnuwLMrs6tO78Cs_19um5T'})\n",
        "download.GetContentFile('train.csv')\n",
        "train = pd.read_csv('train.csv')"
      ],
      "execution_count": 0,
      "outputs": []
    },
    {
      "metadata": {
        "id": "xLgX8B76Wpz4",
        "colab_type": "code",
        "colab": {}
      },
      "cell_type": "code",
      "source": [
        "download = drive.CreateFile({'id': '1jEakAbTtsoFNxlYBp5cfGROhuQquOfKg'})\n",
        "download.GetContentFile('test.csv')\n",
        "test = pd.read_csv('test.csv')"
      ],
      "execution_count": 0,
      "outputs": []
    },
    {
      "metadata": {
        "id": "APs14-zkaRwl",
        "colab_type": "code",
        "colab": {}
      },
      "cell_type": "code",
      "source": [
        "y_train = train['label'].values\n",
        "\n",
        "\n",
        "X_train = train.drop(['label'],axis=1)\n",
        "X_test = test\n",
        "\n",
        "X_train = np.array(X_train.iloc[:,:])\n",
        "X_train = np.array([np.reshape(i, (28,28)) for i in X_train])\n",
        "\n",
        "X_test = np.array(X_test.iloc[:,:])\n",
        "X_test = np.array([np.reshape(i, (28,28)) for i in X_test])\n",
        "\n",
        "num_classes = 10\n",
        "y_train = np.array(y_train).reshape(-1)\n",
        "\n",
        "y_train = np.eye(num_classes)[y_train]\n"
      ],
      "execution_count": 0,
      "outputs": []
    },
    {
      "metadata": {
        "id": "4V20cytdI_MM",
        "colab_type": "code",
        "outputId": "2afdb4e6-7177-4adc-8e1d-467d02d17ec3",
        "colab": {
          "base_uri": "https://localhost:8080/",
          "height": 92
        }
      },
      "cell_type": "code",
      "source": [
        "print(X_train.shape)\n",
        "print(X_test.shape)"
      ],
      "execution_count": 0,
      "outputs": [
        {
          "output_type": "stream",
          "text": [
            "(42000, 28, 28)\n",
            "(28000, 28, 28)\n"
          ],
          "name": "stdout"
        }
      ]
    },
    {
      "metadata": {
        "id": "VG7bDv9xkS1h",
        "colab_type": "code",
        "colab": {}
      },
      "cell_type": "code",
      "source": [
        "X_train = X_train.reshape((42000, 28, 28, 1))\n",
        "X_test = X_test.reshape((28000, 28, 28, 1))"
      ],
      "execution_count": 0,
      "outputs": []
    },
    {
      "metadata": {
        "id": "xGm7E3rJM-tq",
        "colab_type": "code",
        "colab": {}
      },
      "cell_type": "code",
      "source": [
        "#y_train = keras.utils.to_categorical(y_train, 10)"
      ],
      "execution_count": 0,
      "outputs": []
    },
    {
      "metadata": {
        "id": "paxq7FHxKIF4",
        "colab_type": "code",
        "colab": {}
      },
      "cell_type": "code",
      "source": [
        "import tensorflow as tf"
      ],
      "execution_count": 0,
      "outputs": []
    },
    {
      "metadata": {
        "id": "pX7X-hS9W1PB",
        "colab_type": "code",
        "colab": {}
      },
      "cell_type": "code",
      "source": [
        "model = Sequential()\n",
        "model.add(Conv2D(32, kernel_size=(3, 3),activation='relu',input_shape=(28,28,1)))\n",
        "\n",
        "model.add(Conv2D(64, (3, 3), activation='relu'))\n",
        "model.add(MaxPooling2D(pool_size=(2, 2)))\n",
        "\n",
        "model.add(Dropout(0.25))\n",
        "#flatten since too many dimensions, we only want a classification output\n",
        "model.add(Flatten())\n",
        "#fully connected to get all relevant data\n",
        "model.add(Dense(128, activation='relu'))\n",
        "#one more dropout for convergence' sake :) \n",
        "model.add(Dropout(0.5))\n",
        "#output a softmax to squash the matrix into output probabilities\n",
        "model.add(Dense(10, activation='softmax'))"
      ],
      "execution_count": 0,
      "outputs": []
    },
    {
      "metadata": {
        "id": "yUQ0SX4LS71X",
        "colab_type": "code",
        "outputId": "8ffbc260-dd24-489e-ce2a-98d1cce71969",
        "colab": {
          "base_uri": "https://localhost:8080/",
          "height": 1020
        }
      },
      "cell_type": "code",
      "source": [
        "model.compile(loss='categorical_crossentropy', optimizer='adam', metrics=['accuracy'])\n",
        "model.fit(X_train, y_train, epochs=20, batch_size=32)"
      ],
      "execution_count": 0,
      "outputs": [
        {
          "output_type": "stream",
          "text": [
            "Epoch 1/20\n",
            "42000/42000 [==============================] - 14s 331us/step - loss: 2.6707 - acc: 0.7768\n",
            "Epoch 2/20\n",
            "42000/42000 [==============================] - 13s 320us/step - loss: 0.1472 - acc: 0.9567\n",
            "Epoch 3/20\n",
            "42000/42000 [==============================] - 13s 320us/step - loss: 0.1113 - acc: 0.9668\n",
            "Epoch 4/20\n",
            "42000/42000 [==============================] - 13s 319us/step - loss: 0.0971 - acc: 0.9705\n",
            "Epoch 5/20\n",
            "42000/42000 [==============================] - 13s 319us/step - loss: 0.0879 - acc: 0.9741\n",
            "Epoch 6/20\n",
            "42000/42000 [==============================] - 13s 319us/step - loss: 0.0788 - acc: 0.9762\n",
            "Epoch 7/20\n",
            "42000/42000 [==============================] - 13s 319us/step - loss: 0.0751 - acc: 0.9780\n",
            "Epoch 8/20\n",
            "42000/42000 [==============================] - 13s 320us/step - loss: 0.0641 - acc: 0.9808\n",
            "Epoch 9/20\n",
            "42000/42000 [==============================] - 13s 319us/step - loss: 0.0616 - acc: 0.9819\n",
            "Epoch 10/20\n",
            "42000/42000 [==============================] - 13s 317us/step - loss: 0.0594 - acc: 0.9820\n",
            "Epoch 11/20\n",
            "42000/42000 [==============================] - 13s 317us/step - loss: 0.0581 - acc: 0.9827\n",
            "Epoch 12/20\n",
            "42000/42000 [==============================] - 13s 318us/step - loss: 0.0556 - acc: 0.9832\n",
            "Epoch 13/20\n",
            "42000/42000 [==============================] - 13s 316us/step - loss: 0.0476 - acc: 0.9857\n",
            "Epoch 14/20\n",
            "42000/42000 [==============================] - 13s 317us/step - loss: 0.0564 - acc: 0.9839\n",
            "Epoch 15/20\n",
            "42000/42000 [==============================] - 13s 317us/step - loss: 0.0432 - acc: 0.9874\n",
            "Epoch 16/20\n",
            "42000/42000 [==============================] - 13s 318us/step - loss: 0.0477 - acc: 0.9862\n",
            "Epoch 17/20\n",
            "42000/42000 [==============================] - 13s 317us/step - loss: 0.0443 - acc: 0.9866\n",
            "Epoch 18/20\n",
            "42000/42000 [==============================] - 13s 318us/step - loss: 0.0445 - acc: 0.9872\n",
            "Epoch 19/20\n",
            "42000/42000 [==============================] - 13s 316us/step - loss: 0.0421 - acc: 0.9875\n",
            "Epoch 20/20\n",
            "42000/42000 [==============================] - 13s 315us/step - loss: 0.0431 - acc: 0.9870\n"
          ],
          "name": "stdout"
        },
        {
          "output_type": "execute_result",
          "data": {
            "text/plain": [
              "<keras.callbacks.History at 0x7fb0ad7a7ef0>"
            ]
          },
          "metadata": {
            "tags": []
          },
          "execution_count": 21
        }
      ]
    },
    {
      "metadata": {
        "id": "ri2POjUtPgf9",
        "colab_type": "code",
        "colab": {}
      },
      "cell_type": "code",
      "source": [
        "img = X_test[1000]\n",
        "test_img = img.reshape((1,28,28,1))\n",
        "img_class = model.predict_classes(test_img)\n",
        "prediction = img_class[0]\n",
        "classname = img_class[0]\n",
        "print(\"Class: \",classname)"
      ],
      "execution_count": 0,
      "outputs": []
    },
    {
      "metadata": {
        "id": "eghwsmiiP5X3",
        "colab_type": "code",
        "colab": {}
      },
      "cell_type": "code",
      "source": [
        "img = img.reshape((28,28))\n",
        "plt.imshow(img)\n",
        "plt.title(classname)\n",
        "plt.show()\n"
      ],
      "execution_count": 0,
      "outputs": []
    },
    {
      "metadata": {
        "id": "Y3ugo3XtmKoZ",
        "colab_type": "code",
        "colab": {}
      },
      "cell_type": "code",
      "source": [
        "classifier.summary()"
      ],
      "execution_count": 0,
      "outputs": []
    },
    {
      "metadata": {
        "id": "-r9GxkiFRyl7",
        "colab_type": "code",
        "colab": {}
      },
      "cell_type": "code",
      "source": [
        "from keras.utils.vis_utils import plot_model"
      ],
      "execution_count": 0,
      "outputs": []
    },
    {
      "metadata": {
        "id": "8UGALrzbR4i2",
        "colab_type": "code",
        "colab": {}
      },
      "cell_type": "code",
      "source": [
        "plot_model(classifier, to_file='model_plot.png', show_shapes=True, show_layer_names=True)"
      ],
      "execution_count": 0,
      "outputs": []
    },
    {
      "metadata": {
        "id": "JTikifp6R9h9",
        "colab_type": "code",
        "colab": {}
      },
      "cell_type": "code",
      "source": [
        "!apt install graphviz\n",
        "!pip install pydot pydot-ng\n",
        "!echo \"Double check with Python 3\"\n",
        "!python -c \"import pydot\""
      ],
      "execution_count": 0,
      "outputs": []
    },
    {
      "metadata": {
        "id": "T1b-rpZ0SH61",
        "colab_type": "code",
        "colab": {}
      },
      "cell_type": "code",
      "source": [
        "plot_model(classifier, show_shapes=True, show_layer_names=True, to_file='model.png')\n",
        "from IPython.display import Image\n",
        "Image(retina=True, filename='model.png')"
      ],
      "execution_count": 0,
      "outputs": []
    },
    {
      "metadata": {
        "id": "XeEDOSACyGLG",
        "colab_type": "code",
        "outputId": "c36402ec-80c1-443f-becf-27b6ac7de96d",
        "colab": {
          "base_uri": "https://localhost:8080/",
          "height": 74
        }
      },
      "cell_type": "code",
      "source": [
        "model.save('HAND2.h5')\n",
        "weights_file = drive.CreateFile({'title' : 'HAND2.h5'})\n",
        "weights_file.SetContentFile('HAND2.h5')\n",
        "weights_file.Upload()\n",
        "drive.CreateFile({'id': weights_file.get('id')})"
      ],
      "execution_count": 0,
      "outputs": [
        {
          "output_type": "execute_result",
          "data": {
            "text/plain": [
              "GoogleDriveFile({'id': '1R_LvT1jgJR7o9de4DcRI6tOcu7rWXC1Q'})"
            ]
          },
          "metadata": {
            "tags": []
          },
          "execution_count": 22
        }
      ]
    },
    {
      "metadata": {
        "id": "NbkPo17xWq5t",
        "colab_type": "code",
        "colab": {}
      },
      "cell_type": "code",
      "source": [
        ""
      ],
      "execution_count": 0,
      "outputs": []
    }
  ]
}
