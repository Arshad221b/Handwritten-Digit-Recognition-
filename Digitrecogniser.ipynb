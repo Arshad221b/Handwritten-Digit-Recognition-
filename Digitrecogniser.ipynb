{
  "nbformat": 4,
  "nbformat_minor": 0,
  "metadata": {
    "colab": {
      "name": "Digitrecogniser.ipynb",
      "version": "0.3.2",
      "provenance": [],
      "include_colab_link": true
    },
    "kernelspec": {
      "name": "python3",
      "display_name": "Python 3"
    },
    "accelerator": "GPU"
  },
  "cells": [
    {
      "cell_type": "markdown",
      "metadata": {
        "id": "view-in-github",
        "colab_type": "text"
      },
      "source": [
        "<a href=\"https://colab.research.google.com/github/Arshad221b/Handwritten-Digit-Recognition-/blob/master/Digitrecogniser.ipynb\" target=\"_parent\"><img src=\"https://colab.research.google.com/assets/colab-badge.svg\" alt=\"Open In Colab\"/></a>"
      ]
    },
    {
      "metadata": {
        "id": "Vx46D0KVg-x7",
        "colab_type": "code",
        "colab": {
          "base_uri": "https://localhost:8080/",
          "height": 94
        },
        "outputId": "3471c416-bd33-4135-b152-81481da184e9"
      },
      "cell_type": "code",
      "source": [
        "from keras.datasets import mnist\n",
        "import matplotlib.pyplot as plt"
      ],
      "execution_count": 2,
      "outputs": [
        {
          "output_type": "stream",
          "text": [
            "Using TensorFlow backend.\n"
          ],
          "name": "stderr"
        }
      ]
    },
    {
      "metadata": {
        "id": "CwxuK-yNlhaG",
        "colab_type": "code",
        "colab": {
          "base_uri": "https://localhost:8080/",
          "height": 234
        },
        "outputId": "959b9914-2ed9-46bc-8de8-92d0df8ee881"
      },
      "cell_type": "code",
      "source": [
        "(X_train, y_train), (X_test, y_test) = mnist.load_data()"
      ],
      "execution_count": 3,
      "outputs": [
        {
          "output_type": "stream",
          "text": [
            "Downloading data from https://s3.amazonaws.com/img-datasets/mnist.npz\n",
            "11493376/11490434 [==============================] - 2s 0us/step\n"
          ],
          "name": "stdout"
        }
      ]
    },
    {
      "metadata": {
        "id": "A83G2pNhnFfg",
        "colab_type": "code",
        "colab": {}
      },
      "cell_type": "code",
      "source": [
        "import numpy\n",
        "from keras.datasets import mnist\n",
        "from keras.models import Sequential\n",
        "from keras.layers import Dense\n",
        "from keras.layers import Dropout\n",
        "from keras.utils import np_utils"
      ],
      "execution_count": 0,
      "outputs": []
    },
    {
      "metadata": {
        "id": "SZwXI9MvncJz",
        "colab_type": "code",
        "colab": {}
      },
      "cell_type": "code",
      "source": [
        "seed = 7\n",
        "numpy.random.seed(seed)"
      ],
      "execution_count": 0,
      "outputs": []
    },
    {
      "metadata": {
        "id": "A2roj6VvnjOW",
        "colab_type": "code",
        "colab": {}
      },
      "cell_type": "code",
      "source": [
        "(X_train, y_train), (X_test, y_test) = mnist.load_data()"
      ],
      "execution_count": 0,
      "outputs": []
    },
    {
      "metadata": {
        "id": "HNnTfkWgnnkt",
        "colab_type": "code",
        "colab": {}
      },
      "cell_type": "code",
      "source": [
        "num_pixels = X_train.shape[1] * X_train.shape[2]\n",
        "X_train = X_train.reshape(X_train.shape[0], num_pixels).astype('float32')\n",
        "X_test = X_test.reshape(X_test.shape[0], num_pixels).astype('float32')"
      ],
      "execution_count": 0,
      "outputs": []
    },
    {
      "metadata": {
        "id": "r3mdHho6oDI1",
        "colab_type": "code",
        "colab": {}
      },
      "cell_type": "code",
      "source": [
        "X_train = X_train / 255\n",
        "X_test = X_test / 255"
      ],
      "execution_count": 0,
      "outputs": []
    },
    {
      "metadata": {
        "id": "lnpObgI4oIeo",
        "colab_type": "code",
        "colab": {}
      },
      "cell_type": "code",
      "source": [
        "y_train = np_utils.to_categorical(y_train)\n",
        "y_test = np_utils.to_categorical(y_test)\n",
        "num_classes = y_test.shape[1]"
      ],
      "execution_count": 0,
      "outputs": []
    },
    {
      "metadata": {
        "id": "Pvivy2o7omWg",
        "colab_type": "code",
        "colab": {}
      },
      "cell_type": "code",
      "source": [
        "# define baseline model\n",
        "def larger_model():\n",
        "\t# create model\n",
        "\tmodel = Sequential()\n",
        "\tmodel.add(Conv2D(30, (5, 5), input_shape=(1, 28, 28), activation='relu'))\n",
        "\tmodel.add(MaxPooling2D(pool_size=(2, 2)))\n",
        "\tmodel.add(Conv2D(15, (3, 3), activation='relu'))\n",
        "\tmodel.add(MaxPooling2D(pool_size=(2, 2)))\n",
        "\tmodel.add(Dropout(0.2))\n",
        "\tmodel.add(Flatten())\n",
        "\tmodel.add(Dense(128, activation='relu'))\n",
        "\tmodel.add(Dense(50, activation='relu'))\n",
        "\tmodel.add(Dense(num_classes, activation='softmax'))\n",
        "\t# Compile model\n",
        "\tmodel.compile(loss='categorical_crossentropy', optimizer='adam', metrics=['accuracy'])\n",
        "\treturn model"
      ],
      "execution_count": 0,
      "outputs": []
    },
    {
      "metadata": {
        "id": "aU5lL7Ayo5eb",
        "colab_type": "code",
        "colab": {
          "base_uri": "https://localhost:8080/",
          "height": 3375
        },
        "outputId": "6432b661-985b-4cbe-cd88-a75d63acced6"
      },
      "cell_type": "code",
      "source": [
        "model = baseline_model()\n",
        "# Fit the model\n",
        "model.fit(X_train, y_train, validation_data=(X_test, y_test), epochs=100, batch_size=100, verbose=2)\n",
        "# Final evaluation of the model\n",
        "scores = model.evaluate(X_test, y_test, verbose=0)\n",
        "print(\"Baseline Error: %.2f%%\" % (100-scores[1]*100))"
      ],
      "execution_count": 14,
      "outputs": [
        {
          "output_type": "stream",
          "text": [
            "Train on 60000 samples, validate on 10000 samples\n",
            "Epoch 1/100\n",
            " - 3s - loss: 0.2343 - acc: 0.9326 - val_loss: 0.1169 - val_acc: 0.9651\n",
            "Epoch 2/100\n",
            " - 3s - loss: 0.0902 - acc: 0.9741 - val_loss: 0.0784 - val_acc: 0.9762\n",
            "Epoch 3/100\n",
            " - 3s - loss: 0.0574 - acc: 0.9831 - val_loss: 0.0646 - val_acc: 0.9821\n",
            "Epoch 4/100\n",
            " - 3s - loss: 0.0383 - acc: 0.9885 - val_loss: 0.0616 - val_acc: 0.9799\n",
            "Epoch 5/100\n",
            " - 3s - loss: 0.0281 - acc: 0.9918 - val_loss: 0.0668 - val_acc: 0.9801\n",
            "Epoch 6/100\n",
            " - 3s - loss: 0.0201 - acc: 0.9939 - val_loss: 0.0611 - val_acc: 0.9809\n",
            "Epoch 7/100\n",
            " - 3s - loss: 0.0154 - acc: 0.9957 - val_loss: 0.0630 - val_acc: 0.9814\n",
            "Epoch 8/100\n",
            " - 3s - loss: 0.0122 - acc: 0.9966 - val_loss: 0.0603 - val_acc: 0.9832\n",
            "Epoch 9/100\n",
            " - 3s - loss: 0.0098 - acc: 0.9971 - val_loss: 0.0622 - val_acc: 0.9815\n",
            "Epoch 10/100\n",
            " - 3s - loss: 0.0076 - acc: 0.9979 - val_loss: 0.0689 - val_acc: 0.9828\n",
            "Epoch 11/100\n",
            " - 3s - loss: 0.0072 - acc: 0.9979 - val_loss: 0.0658 - val_acc: 0.9818\n",
            "Epoch 12/100\n",
            " - 3s - loss: 0.0086 - acc: 0.9973 - val_loss: 0.0653 - val_acc: 0.9844\n",
            "Epoch 13/100\n",
            " - 3s - loss: 0.0079 - acc: 0.9972 - val_loss: 0.1137 - val_acc: 0.9715\n",
            "Epoch 14/100\n",
            " - 3s - loss: 0.0033 - acc: 0.9992 - val_loss: 0.0645 - val_acc: 0.9845\n",
            "Epoch 15/100\n",
            " - 3s - loss: 0.0034 - acc: 0.9990 - val_loss: 0.0745 - val_acc: 0.9827\n",
            "Epoch 16/100\n",
            " - 3s - loss: 0.0067 - acc: 0.9977 - val_loss: 0.0961 - val_acc: 0.9786\n",
            "Epoch 17/100\n",
            " - 3s - loss: 0.0061 - acc: 0.9979 - val_loss: 0.0862 - val_acc: 0.9794\n",
            "Epoch 18/100\n",
            " - 3s - loss: 0.0028 - acc: 0.9993 - val_loss: 0.0754 - val_acc: 0.9829\n",
            "Epoch 19/100\n",
            " - 3s - loss: 0.0023 - acc: 0.9993 - val_loss: 0.0890 - val_acc: 0.9803\n",
            "Epoch 20/100\n",
            " - 3s - loss: 0.0083 - acc: 0.9972 - val_loss: 0.0770 - val_acc: 0.9814\n",
            "Epoch 21/100\n",
            " - 3s - loss: 0.0050 - acc: 0.9984 - val_loss: 0.0788 - val_acc: 0.9846\n",
            "Epoch 22/100\n",
            " - 3s - loss: 0.0013 - acc: 0.9996 - val_loss: 0.0732 - val_acc: 0.9844\n",
            "Epoch 23/100\n",
            " - 3s - loss: 3.5049e-04 - acc: 1.0000 - val_loss: 0.0704 - val_acc: 0.9854\n",
            "Epoch 24/100\n",
            " - 3s - loss: 8.5477e-05 - acc: 1.0000 - val_loss: 0.0713 - val_acc: 0.9856\n",
            "Epoch 25/100\n",
            " - 3s - loss: 5.7054e-05 - acc: 1.0000 - val_loss: 0.0715 - val_acc: 0.9857\n",
            "Epoch 26/100\n",
            " - 3s - loss: 4.4169e-05 - acc: 1.0000 - val_loss: 0.0724 - val_acc: 0.9859\n",
            "Epoch 27/100\n",
            " - 3s - loss: 3.5301e-05 - acc: 1.0000 - val_loss: 0.0735 - val_acc: 0.9860\n",
            "Epoch 28/100\n",
            " - 3s - loss: 0.0048 - acc: 0.9987 - val_loss: 0.2161 - val_acc: 0.9625\n",
            "Epoch 29/100\n",
            " - 3s - loss: 0.0182 - acc: 0.9946 - val_loss: 0.0865 - val_acc: 0.9836\n",
            "Epoch 30/100\n",
            " - 3s - loss: 0.0014 - acc: 0.9996 - val_loss: 0.0858 - val_acc: 0.9846\n",
            "Epoch 31/100\n",
            " - 3s - loss: 4.2474e-04 - acc: 0.9999 - val_loss: 0.0832 - val_acc: 0.9850\n",
            "Epoch 32/100\n",
            " - 3s - loss: 1.2292e-04 - acc: 1.0000 - val_loss: 0.0824 - val_acc: 0.9857\n",
            "Epoch 33/100\n",
            " - 3s - loss: 5.7877e-05 - acc: 1.0000 - val_loss: 0.0823 - val_acc: 0.9855\n",
            "Epoch 34/100\n",
            " - 3s - loss: 4.2664e-05 - acc: 1.0000 - val_loss: 0.0828 - val_acc: 0.9855\n",
            "Epoch 35/100\n",
            " - 3s - loss: 3.3563e-05 - acc: 1.0000 - val_loss: 0.0835 - val_acc: 0.9854\n",
            "Epoch 36/100\n",
            " - 3s - loss: 2.7188e-05 - acc: 1.0000 - val_loss: 0.0837 - val_acc: 0.9853\n",
            "Epoch 37/100\n",
            " - 3s - loss: 2.2305e-05 - acc: 1.0000 - val_loss: 0.0841 - val_acc: 0.9853\n",
            "Epoch 38/100\n",
            " - 3s - loss: 1.8239e-05 - acc: 1.0000 - val_loss: 0.0843 - val_acc: 0.9852\n",
            "Epoch 39/100\n",
            " - 3s - loss: 1.5024e-05 - acc: 1.0000 - val_loss: 0.0853 - val_acc: 0.9854\n",
            "Epoch 40/100\n",
            " - 3s - loss: 1.1862e-05 - acc: 1.0000 - val_loss: 0.0864 - val_acc: 0.9855\n",
            "Epoch 41/100\n",
            " - 3s - loss: 9.3486e-06 - acc: 1.0000 - val_loss: 0.0863 - val_acc: 0.9854\n",
            "Epoch 42/100\n",
            " - 3s - loss: 8.6259e-06 - acc: 1.0000 - val_loss: 0.0870 - val_acc: 0.9856\n",
            "Epoch 43/100\n",
            " - 3s - loss: 6.1883e-06 - acc: 1.0000 - val_loss: 0.0893 - val_acc: 0.9849\n",
            "Epoch 44/100\n",
            " - 3s - loss: 0.0252 - acc: 0.9938 - val_loss: 0.1063 - val_acc: 0.9804\n",
            "Epoch 45/100\n",
            " - 3s - loss: 0.0037 - acc: 0.9989 - val_loss: 0.0943 - val_acc: 0.9827\n",
            "Epoch 46/100\n",
            " - 3s - loss: 9.3243e-04 - acc: 0.9998 - val_loss: 0.0924 - val_acc: 0.9837\n",
            "Epoch 47/100\n",
            " - 3s - loss: 4.1075e-04 - acc: 0.9999 - val_loss: 0.0886 - val_acc: 0.9844\n",
            "Epoch 48/100\n",
            " - 3s - loss: 1.3415e-04 - acc: 1.0000 - val_loss: 0.0875 - val_acc: 0.9844\n",
            "Epoch 49/100\n",
            " - 3s - loss: 5.0598e-05 - acc: 1.0000 - val_loss: 0.0865 - val_acc: 0.9848\n",
            "Epoch 50/100\n",
            " - 3s - loss: 2.4742e-05 - acc: 1.0000 - val_loss: 0.0869 - val_acc: 0.9850\n",
            "Epoch 51/100\n",
            " - 3s - loss: 1.9607e-05 - acc: 1.0000 - val_loss: 0.0866 - val_acc: 0.9848\n",
            "Epoch 52/100\n",
            " - 3s - loss: 1.6048e-05 - acc: 1.0000 - val_loss: 0.0870 - val_acc: 0.9847\n",
            "Epoch 53/100\n",
            " - 3s - loss: 1.3169e-05 - acc: 1.0000 - val_loss: 0.0867 - val_acc: 0.9849\n",
            "Epoch 54/100\n",
            " - 3s - loss: 1.0783e-05 - acc: 1.0000 - val_loss: 0.0875 - val_acc: 0.9849\n",
            "Epoch 55/100\n",
            " - 3s - loss: 8.7824e-06 - acc: 1.0000 - val_loss: 0.0875 - val_acc: 0.9850\n",
            "Epoch 56/100\n",
            " - 3s - loss: 7.1404e-06 - acc: 1.0000 - val_loss: 0.0881 - val_acc: 0.9852\n",
            "Epoch 57/100\n",
            " - 3s - loss: 5.8062e-06 - acc: 1.0000 - val_loss: 0.0887 - val_acc: 0.9853\n",
            "Epoch 58/100\n",
            " - 3s - loss: 4.7123e-06 - acc: 1.0000 - val_loss: 0.0886 - val_acc: 0.9852\n",
            "Epoch 59/100\n",
            " - 3s - loss: 3.8145e-06 - acc: 1.0000 - val_loss: 0.0895 - val_acc: 0.9857\n",
            "Epoch 60/100\n",
            " - 3s - loss: 3.0373e-06 - acc: 1.0000 - val_loss: 0.0903 - val_acc: 0.9854\n",
            "Epoch 61/100\n",
            " - 3s - loss: 2.5163e-06 - acc: 1.0000 - val_loss: 0.0908 - val_acc: 0.9857\n",
            "Epoch 62/100\n",
            " - 3s - loss: 4.4445e-04 - acc: 0.9999 - val_loss: 0.1420 - val_acc: 0.9776\n",
            "Epoch 63/100\n",
            " - 3s - loss: 0.0214 - acc: 0.9945 - val_loss: 0.1061 - val_acc: 0.9827\n",
            "Epoch 64/100\n",
            " - 3s - loss: 0.0012 - acc: 0.9996 - val_loss: 0.0961 - val_acc: 0.9851\n",
            "Epoch 65/100\n",
            " - 3s - loss: 1.4782e-04 - acc: 1.0000 - val_loss: 0.0941 - val_acc: 0.9854\n",
            "Epoch 66/100\n",
            " - 3s - loss: 3.5453e-05 - acc: 1.0000 - val_loss: 0.0930 - val_acc: 0.9851\n",
            "Epoch 67/100\n",
            " - 3s - loss: 2.1012e-05 - acc: 1.0000 - val_loss: 0.0930 - val_acc: 0.9850\n",
            "Epoch 68/100\n",
            " - 3s - loss: 1.6603e-05 - acc: 1.0000 - val_loss: 0.0929 - val_acc: 0.9854\n",
            "Epoch 69/100\n",
            " - 3s - loss: 1.3505e-05 - acc: 1.0000 - val_loss: 0.0932 - val_acc: 0.9856\n",
            "Epoch 70/100\n",
            " - 3s - loss: 1.1176e-05 - acc: 1.0000 - val_loss: 0.0935 - val_acc: 0.9856\n",
            "Epoch 71/100\n",
            " - 3s - loss: 9.1623e-06 - acc: 1.0000 - val_loss: 0.0938 - val_acc: 0.9857\n",
            "Epoch 72/100\n",
            " - 3s - loss: 7.5905e-06 - acc: 1.0000 - val_loss: 0.0942 - val_acc: 0.9858\n",
            "Epoch 73/100\n",
            " - 3s - loss: 6.1895e-06 - acc: 1.0000 - val_loss: 0.0947 - val_acc: 0.9858\n",
            "Epoch 74/100\n",
            " - 3s - loss: 5.1430e-06 - acc: 1.0000 - val_loss: 0.0950 - val_acc: 0.9855\n",
            "Epoch 75/100\n",
            " - 3s - loss: 4.1767e-06 - acc: 1.0000 - val_loss: 0.0952 - val_acc: 0.9857\n",
            "Epoch 76/100\n",
            " - 3s - loss: 3.4331e-06 - acc: 1.0000 - val_loss: 0.0959 - val_acc: 0.9854\n",
            "Epoch 77/100\n",
            " - 3s - loss: 2.7994e-06 - acc: 1.0000 - val_loss: 0.0963 - val_acc: 0.9857\n",
            "Epoch 78/100\n",
            " - 3s - loss: 2.2569e-06 - acc: 1.0000 - val_loss: 0.0971 - val_acc: 0.9858\n",
            "Epoch 79/100\n",
            " - 3s - loss: 1.8406e-06 - acc: 1.0000 - val_loss: 0.0974 - val_acc: 0.9855\n",
            "Epoch 80/100\n",
            " - 3s - loss: 1.4930e-06 - acc: 1.0000 - val_loss: 0.0979 - val_acc: 0.9858\n",
            "Epoch 81/100\n",
            " - 3s - loss: 1.2442e-06 - acc: 1.0000 - val_loss: 0.0990 - val_acc: 0.9856\n",
            "Epoch 82/100\n",
            " - 3s - loss: 1.0185e-06 - acc: 1.0000 - val_loss: 0.0995 - val_acc: 0.9856\n",
            "Epoch 83/100\n",
            " - 3s - loss: 8.4286e-07 - acc: 1.0000 - val_loss: 0.0991 - val_acc: 0.9856\n",
            "Epoch 84/100\n",
            " - 3s - loss: 6.8109e-07 - acc: 1.0000 - val_loss: 0.1004 - val_acc: 0.9852\n",
            "Epoch 85/100\n",
            " - 3s - loss: 5.7441e-07 - acc: 1.0000 - val_loss: 0.1007 - val_acc: 0.9858\n",
            "Epoch 86/100\n",
            " - 3s - loss: 4.6490e-07 - acc: 1.0000 - val_loss: 0.1012 - val_acc: 0.9854\n",
            "Epoch 87/100\n",
            " - 3s - loss: 4.0229e-07 - acc: 1.0000 - val_loss: 0.1018 - val_acc: 0.9854\n",
            "Epoch 88/100\n",
            " - 3s - loss: 3.4355e-07 - acc: 1.0000 - val_loss: 0.1017 - val_acc: 0.9854\n",
            "Epoch 89/100\n",
            " - 3s - loss: 3.0123e-07 - acc: 1.0000 - val_loss: 0.1031 - val_acc: 0.9854\n",
            "Epoch 90/100\n",
            " - 3s - loss: 2.6480e-07 - acc: 1.0000 - val_loss: 0.1033 - val_acc: 0.9857\n",
            "Epoch 91/100\n",
            " - 3s - loss: 2.3581e-07 - acc: 1.0000 - val_loss: 0.1041 - val_acc: 0.9853\n",
            "Epoch 92/100\n",
            " - 3s - loss: 2.1295e-07 - acc: 1.0000 - val_loss: 0.1047 - val_acc: 0.9853\n",
            "Epoch 93/100\n",
            " - 3s - loss: 1.9629e-07 - acc: 1.0000 - val_loss: 0.1047 - val_acc: 0.9856\n",
            "Epoch 94/100\n",
            " - 3s - loss: 1.8079e-07 - acc: 1.0000 - val_loss: 0.1053 - val_acc: 0.9854\n",
            "Epoch 95/100\n",
            " - 3s - loss: 1.6982e-07 - acc: 1.0000 - val_loss: 0.1065 - val_acc: 0.9854\n",
            "Epoch 96/100\n",
            " - 3s - loss: 1.6136e-07 - acc: 1.0000 - val_loss: 0.1065 - val_acc: 0.9856\n",
            "Epoch 97/100\n",
            " - 3s - loss: 1.5415e-07 - acc: 1.0000 - val_loss: 0.1074 - val_acc: 0.9852\n",
            "Epoch 98/100\n",
            " - 3s - loss: 1.4853e-07 - acc: 1.0000 - val_loss: 0.1075 - val_acc: 0.9854\n",
            "Epoch 99/100\n",
            " - 3s - loss: 1.4405e-07 - acc: 1.0000 - val_loss: 0.1076 - val_acc: 0.9855\n",
            "Epoch 100/100\n",
            " - 3s - loss: 1.4037e-07 - acc: 1.0000 - val_loss: 0.1084 - val_acc: 0.9854\n",
            "Baseline Error: 1.46%\n"
          ],
          "name": "stdout"
        }
      ]
    },
    {
      "metadata": {
        "id": "S48JtbmCpeMo",
        "colab_type": "code",
        "colab": {}
      },
      "cell_type": "code",
      "source": [
        ""
      ],
      "execution_count": 0,
      "outputs": []
    }
  ]
}